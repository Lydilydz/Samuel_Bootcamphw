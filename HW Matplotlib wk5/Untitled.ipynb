{
 "cells": [
  {
   "cell_type": "code",
   "execution_count": 54,
   "metadata": {},
   "outputs": [
    {
     "name": "stdout",
     "output_type": "stream",
     "text": [
      "['Samuel', 'Genet', 'Ariam', 'Fats', 'Danny Samuel', 'Radha', 'Mickey', 'Brock C', 'Lara Kumar', 'Prem Kumar', 'Darick MorrisonHanna Peterson', 'Stacey M', 'Zarha', 'Chris Cathlin', 'Zen Butler', 'Cesar C', 'Taylor Cross', 'Danny Chrishmen', 'Travis Butler', 'Ian Nimmo', 'Lola W', 'Ashley Wilson', 'Nils W', 'Nick S']\n"
     ]
    }
   ],
   "source": [
    "Dreamers= [\"Samuel\", \"Genet\", \"Ariam\", \"Fats\", \"Danny Samuel\",\"Radha\",\"Mickey\",\"Brock C\",\"Lara Kumar\", \"Prem Kumar\",\"Darick Morrison\" \"Hanna Peterson\", \"Stacey M\" ,\"Zarha\",\"Chris Cathlin\",\"Zen Butler\", \"Cesar C\",\"Taylor Cross\", \"Danny Chrishmen\",\"Travis Butler\", \"Ian Nimmo\", \"Lola W\", \"Ashley Wilson\", \"Nils W\", \"Nick S\"]\n",
    "print(Dreamers)"
   ]
  },
  {
   "cell_type": "code",
   "execution_count": 55,
   "metadata": {},
   "outputs": [],
   "source": [
    "dreamers2= Dreamers.copy()"
   ]
  },
  {
   "cell_type": "code",
   "execution_count": 56,
   "metadata": {},
   "outputs": [
    {
     "name": "stdout",
     "output_type": "stream",
     "text": [
      "Prem Kumar\n"
     ]
    }
   ],
   "source": [
    "print(Dreamers[9])"
   ]
  },
  {
   "cell_type": "code",
   "execution_count": 57,
   "metadata": {},
   "outputs": [
    {
     "name": "stdout",
     "output_type": "stream",
     "text": [
      "['Radha', 'Mickey', 'Brock C']\n"
     ]
    }
   ],
   "source": [
    "print(Dreamers[5:8])"
   ]
  },
  {
   "cell_type": "code",
   "execution_count": 51,
   "metadata": {},
   "outputs": [
    {
     "name": "stdout",
     "output_type": "stream",
     "text": [
      "['Samuel', 'Genet', 'Ariam', 'Fats', 'Danny Samuel', 'Radha', 'Mickey', 'Brock C', 'Lara Kumar', 'Prem Kumar', 'Hanna Peterson', 'Stacey M', 'Zarha', 'Chris Cathlin', 'Zen Butler', 'Cesar C', 'Taylor Cross', 'Danny Chrishmen', 'Travis Butler', 'Ian Nimmo', 'Lola W', 'Ashley Wilson', 'Nils W', 'Nick S']\n"
     ]
    },
    {
     "ename": "AttributeError",
     "evalue": "'NoneType' object has no attribute 'index'",
     "output_type": "error",
     "traceback": [
      "\u001b[1;31m---------------------------------------------------------------------------\u001b[0m",
      "\u001b[1;31mAttributeError\u001b[0m                            Traceback (most recent call last)",
      "\u001b[1;32m<ipython-input-51-5d277a009b24>\u001b[0m in \u001b[0;36m<module>\u001b[1;34m\u001b[0m\n\u001b[1;32m----> 1\u001b[1;33m \u001b[0mprint\u001b[0m\u001b[1;33m(\u001b[0m\u001b[0mDreamers\u001b[0m\u001b[1;33m)\u001b[0m\u001b[1;33m.\u001b[0m\u001b[0mindex\u001b[0m\u001b[1;33m[\u001b[0m\u001b[0mMike\u001b[0m\u001b[1;33m]\u001b[0m\u001b[1;33m\u001b[0m\u001b[1;33m\u001b[0m\u001b[0m\n\u001b[0m",
      "\u001b[1;31mAttributeError\u001b[0m: 'NoneType' object has no attribute 'index'"
     ]
    }
   ],
   "source": [
    "print(Dreamers).index[Mike]"
   ]
  },
  {
   "cell_type": "code",
   "execution_count": 52,
   "metadata": {},
   "outputs": [
    {
     "name": "stdout",
     "output_type": "stream",
     "text": [
      "['Ariam', 'Ashley Wilson', 'Brock C', 'Cesar C', 'Chris Cathlin', 'Danny Chrishmen', 'Danny Samuel', 'Fats', 'Genet', 'Hanna Peterson', 'Ian Nimmo', 'Lara Kumar', 'Lola W', 'Mickey', 'Nick S', 'Nils W', 'Prem Kumar', 'Radha', 'Samuel', 'Stacey M', 'Taylor Cross', 'Travis Butler', 'Zarha', 'Zen Butler']\n"
     ]
    },
    {
     "ename": "AttributeError",
     "evalue": "'NoneType' object has no attribute 'sort'",
     "output_type": "error",
     "traceback": [
      "\u001b[1;31m---------------------------------------------------------------------------\u001b[0m",
      "\u001b[1;31mAttributeError\u001b[0m                            Traceback (most recent call last)",
      "\u001b[1;32m<ipython-input-52-1713551a2344>\u001b[0m in \u001b[0;36m<module>\u001b[1;34m\u001b[0m\n\u001b[0;32m      1\u001b[0m \u001b[0md_count\u001b[0m\u001b[1;33m=\u001b[0m\u001b[0mDreamers\u001b[0m\u001b[1;33m.\u001b[0m\u001b[0msort\u001b[0m\u001b[1;33m(\u001b[0m\u001b[1;33m)\u001b[0m\u001b[1;33m\u001b[0m\u001b[1;33m\u001b[0m\u001b[0m\n\u001b[1;32m----> 2\u001b[1;33m \u001b[0mprint\u001b[0m\u001b[1;33m(\u001b[0m\u001b[0mDreamers\u001b[0m\u001b[1;33m)\u001b[0m\u001b[1;33m.\u001b[0m\u001b[0msort\u001b[0m\u001b[1;33m(\u001b[0m\u001b[1;33m)\u001b[0m\u001b[1;33m\u001b[0m\u001b[1;33m\u001b[0m\u001b[0m\n\u001b[0m",
      "\u001b[1;31mAttributeError\u001b[0m: 'NoneType' object has no attribute 'sort'"
     ]
    }
   ],
   "source": [
    "d_count=Dreamers.sort()\n",
    "print(Dreamers).sort()"
   ]
  },
  {
   "cell_type": "code",
   "execution_count": null,
   "metadata": {},
   "outputs": [],
   "source": []
  },
  {
   "cell_type": "code",
   "execution_count": null,
   "metadata": {},
   "outputs": [],
   "source": []
  },
  {
   "cell_type": "code",
   "execution_count": null,
   "metadata": {},
   "outputs": [],
   "source": []
  }
 ],
 "metadata": {
  "kernelspec": {
   "display_name": "Python 3",
   "language": "python",
   "name": "python3"
  },
  "language_info": {
   "codemirror_mode": {
    "name": "ipython",
    "version": 3
   },
   "file_extension": ".py",
   "mimetype": "text/x-python",
   "name": "python",
   "nbconvert_exporter": "python",
   "pygments_lexer": "ipython3",
   "version": "3.7.3"
  }
 },
 "nbformat": 4,
 "nbformat_minor": 2
}
