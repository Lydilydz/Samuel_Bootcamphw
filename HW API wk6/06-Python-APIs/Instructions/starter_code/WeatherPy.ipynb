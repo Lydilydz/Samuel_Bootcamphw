{
 "cells": [
  {
   "cell_type": "markdown",
   "metadata": {},
   "source": [
    "# WeatherPy\n",
    "----\n",
    "\n",
    "#### Note\n",
    "* Instructions have been included for each segment. You do not have to follow them exactly, but they are included to help you think through the steps."
   ]
  },
  {
   "cell_type": "code",
   "execution_count": null,
   "metadata": {
    "scrolled": true
   },
   "outputs": [],
   "source": [
    "# Dependencies and Setup\n",
    "import matplotlib.pyplot as plt\n",
    "import pandas as pd\n",
    "import numpy as np\n",
    "import requests\n",
    "import time\n",
    "import json\n",
    "from pprint import pprint\n",
    "\n",
    "# Import API key\n",
    "from api_keys import api_key\n",
    "\n",
    "# Incorporated citipy to determine city based on latitude and longitude\n",
    "from citipy import citipy\n",
    "\n",
    "# Output File (CSV)\n",
    "output_data_file = \"output_data/cities.csv\"\n",
    "\n",
    "# Range of latitudes and longitudes\n",
    "lat_range = (-90, 90)\n",
    "lng_range = (-180, 180)"
   ]
  },
  {
   "cell_type": "markdown",
   "metadata": {},
   "source": [
    "## Generate Cities List"
   ]
  },
  {
   "cell_type": "code",
   "execution_count": 2,
   "metadata": {},
   "outputs": [
    {
     "data": {
      "text/plain": [
       "['port alfred',\n",
       " 'albany',\n",
       " 'narsaq',\n",
       " 'ushuaia',\n",
       " 'broome',\n",
       " 'winnemucca',\n",
       " 'alanya',\n",
       " 'rocha',\n",
       " 'vigrestad',\n",
       " 'marcona',\n",
       " 'gunjur',\n",
       " 'codrington',\n",
       " 'hobart',\n",
       " 'kodiak',\n",
       " 'busselton',\n",
       " 'rikitea',\n",
       " 'kaitangata',\n",
       " 'constitucion',\n",
       " 'susa',\n",
       " 'dikson',\n",
       " 'grand gaube',\n",
       " 'bandarbeyla',\n",
       " 'puerto ayora',\n",
       " 'thunder bay',\n",
       " 'jamestown',\n",
       " 'punta arenas',\n",
       " 'batagay',\n",
       " 'hermanus',\n",
       " 'taolanaro',\n",
       " 'arraial do cabo',\n",
       " 'ancud',\n",
       " 'porto novo',\n",
       " 'mataura',\n",
       " 'ojinaga',\n",
       " 'kose',\n",
       " 'avarua',\n",
       " 'erenhot',\n",
       " 'naze',\n",
       " 'ponta do sol',\n",
       " 'new norfolk',\n",
       " 'kysyl-syr',\n",
       " 'mahebourg',\n",
       " 'tsihombe',\n",
       " 'obzor',\n",
       " 'inderborskiy',\n",
       " 'kapaa',\n",
       " 'longlac',\n",
       " 'hambantota',\n",
       " 'sao joao da barra',\n",
       " 'altay',\n",
       " 'cayenne',\n",
       " 'sentyabrskiy',\n",
       " 'auki',\n",
       " 'hilo',\n",
       " 'bambous virieux',\n",
       " 'khatanga',\n",
       " 'sibinal',\n",
       " 'bluff',\n",
       " 'cheney',\n",
       " 'amderma',\n",
       " 'vaitape',\n",
       " 'lebedinyy',\n",
       " 'robertsport',\n",
       " 'nikolskoye',\n",
       " 'marawi',\n",
       " 'kazerun',\n",
       " 'upernavik',\n",
       " 'barrow',\n",
       " 'huarmey',\n",
       " 'askiz',\n",
       " 'balabac',\n",
       " 'adrar',\n",
       " 'barentsburg',\n",
       " 'khandbari',\n",
       " 'sohag',\n",
       " 'hithadhoo',\n",
       " 'bilibino',\n",
       " 'kharp',\n",
       " 'longyearbyen',\n",
       " 'saint-philippe',\n",
       " 'chokurdakh',\n",
       " 'pindi gheb',\n",
       " 'laibin',\n",
       " 'hervey bay',\n",
       " 'thompson',\n",
       " 'illoqqortoormiut',\n",
       " 'cape town',\n",
       " 'east london',\n",
       " 'tuatapere',\n",
       " 'mar del plata',\n",
       " 'touros',\n",
       " 'castlemaine',\n",
       " 'mafinga',\n",
       " 'patiala',\n",
       " 'faanui',\n",
       " 'port hardy',\n",
       " 'grindavik',\n",
       " 'bengkulu',\n",
       " 'kavieng',\n",
       " 'ribeira grande',\n",
       " 'halifax',\n",
       " 'zhengjiatun',\n",
       " 'tomatlan',\n",
       " 'sur',\n",
       " 'bredasdorp',\n",
       " 'mata',\n",
       " 'saint-francois',\n",
       " 'zyryanka',\n",
       " 'lompoc',\n",
       " 'valdivia',\n",
       " 'hasaki',\n",
       " 'haapiti']"
      ]
     },
     "execution_count": 2,
     "metadata": {},
     "output_type": "execute_result"
    }
   ],
   "source": [
    "# List for holding lat_lngs and cities\n",
    "lat_lngs = []\n",
    "cities = []\n",
    "\n",
    "# Create a set of random lat and lng combinations\n",
    "lats = np.random.uniform(low=-90.000, high=90.000, size=150)\n",
    "lngs = np.random.uniform(low=-180.000, high=180.000, size=150)\n",
    "lat_lngs = zip(lats, lngs)\n",
    "\n",
    "# Identify nearest city for each lat, lng combination\n",
    "for lat_lng in lat_lngs:\n",
    "    city = citipy.nearest_city(lat_lng[0], lat_lng[1]).city_name\n",
    "    \n",
    "    # If the city is unique, then add it to a our cities list\n",
    "    if city not in cities:\n",
    "        cities.append(city)\n",
    "\n",
    "# Print the city count to confirm sufficient count\n",
    "len(cities)\n",
    "cities"
   ]
  },
  {
   "cell_type": "markdown",
   "metadata": {},
   "source": [
    "### Perform API Calls\n",
    "* Perform a weather check on each city using a series of successive API calls.\n",
    "* Include a print log of each city as it'sbeing processed (with the city number and city name).\n"
   ]
  },
  {
   "cell_type": "code",
   "execution_count": 3,
   "metadata": {},
   "outputs": [
    {
     "name": "stdout",
     "output_type": "stream",
     "text": [
      "skipping city: marcona\n",
      "skipping city: taolanaro\n",
      "skipping city: tsihombe\n",
      "skipping city: inderborskiy\n",
      "skipping city: longlac\n",
      "skipping city: sentyabrskiy\n",
      "skipping city: amderma\n",
      "skipping city: barentsburg\n",
      "skipping city: illoqqortoormiut\n",
      "skipping city: mafinga\n",
      "skipping city: bengkulu\n"
     ]
    }
   ],
   "source": [
    "base_url= f\"https://api.openweathermap.org/data/2.5/weather?appid={api_key}\"\n",
    "name=[]\n",
    "#number=[]\n",
    "clouds=[]    \n",
    "country=[]       \n",
    "date=[]         \n",
    "humidity=[]     \n",
    "lat=[]           \n",
    "lon=[]          \n",
    "max_temp=[]      \n",
    "wind_speed=[] \n",
    "\n",
    "\n",
    "for city in cities:\n",
    "    x_url=f'{base_url}&q={city}'\n",
    "    #print(x_url)\n",
    "    try:\n",
    "        c_requests=requests.get(x_url).json()\n",
    "       #print(type(c_requests))\n",
    "#         pprint(c_requests)\n",
    "#         pprint(c_requests.keys())\n",
    "        name_x=(c_requests['name'])\n",
    "        name.append(name_x)\n",
    "        cloud_x=(c_requests['clouds']['all'])\n",
    "        clouds.append(cloud_x)\n",
    "        country_x=(c_requests['sys']['country'])\n",
    "        country.append(country)\n",
    "        date_x=(c_requests['dt'])\n",
    "        date.append(date_x)\n",
    "        humidity_x=(c_requests['main']['humidity'])\n",
    "        humidity.append(humidity_x)\n",
    "        lat_x=(c_requests['coord']['lat'])\n",
    "        lat.append(lat_x)\n",
    "        lon_x=(c_requests['coord']['lon'])\n",
    "        lon.append(lon_x)\n",
    "        max_temp_x=(c_requests['main']['temp_max'])\n",
    "        max_temp.append(max_temp_x)\n",
    "        wind_speed_x=(c_requests['wind']['speed'])\n",
    "        wind_speed.append(wind_speed_x)\n",
    "\n",
    "    except:\n",
    "        print(f\"skipping city: {city}\")\n",
    "    \n",
    "    \n",
    "    \n",
    "    #print(\"Processing Record\"+\"\"+\" Set 1\"+ name_x )\n",
    "#print(wind_speed)\n",
    "    "
   ]
  },
  {
   "cell_type": "markdown",
   "metadata": {},
   "source": [
    "### Convert Raw Data to DataFrame\n",
    "* Export the city data into a .csv.\n",
    "* Display the DataFrame"
   ]
  },
  {
   "cell_type": "code",
   "execution_count": null,
   "metadata": {},
   "outputs": [],
   "source": [
    "weather_df= pd.DataFrame({\n",
    "    \"name\":name,\n",
    "    \"clouds\":clouds,\n",
    "    \"country\": country,\n",
    "    \"date\": date,\n",
    "    \"humidity\": humidity,\n",
    "    \"lat\": lat,\n",
    "    \"lon\": lon,\n",
    "    \"max_temp\": max_temp,\n",
    "    \"wind_speed\": wind_speed\n",
    "})\n",
    "weather_df.head()"
   ]
  },
  {
   "cell_type": "code",
   "execution_count": null,
   "metadata": {},
   "outputs": [],
   "source": [
    "weather_df.to_csv(\"weather.csv\")\n",
    "#panda convert csv "
   ]
  },
  {
   "cell_type": "markdown",
   "metadata": {},
   "source": [
    "### Plotting the Data\n",
    "* Use proper labeling of the plots using plot titles (including date of analysis) and axes labels.\n",
    "* Save the plotted figures as .pngs."
   ]
  },
  {
   "cell_type": "markdown",
   "metadata": {},
   "source": [
    "#### Latitude vs. Temperature Plot"
   ]
  },
  {
   "cell_type": "code",
   "execution_count": null,
   "metadata": {},
   "outputs": [],
   "source": []
  },
  {
   "cell_type": "code",
   "execution_count": null,
   "metadata": {},
   "outputs": [],
   "source": [
    "#Temperature(F) vs. Latitude Chart \n",
    "#\n",
    "\n",
    "decade_group.plot(kind='scatter', color= 'orange', width= 0.3)\n",
    "plt.ylabel('Number of Migrants by the Millions')\n",
    "plt.xlabel('Latitude')\n",
    "plt.title('City Temperature(F) vs. Latitude')\n",
    "plt.tight_layout()\n",
    "plt.savefig(\"City Temperature(F) vs. Latitude chart\")"
   ]
  },
  {
   "cell_type": "markdown",
   "metadata": {},
   "source": [
    "#### Latitude vs. Humidity Plot"
   ]
  },
  {
   "cell_type": "code",
   "execution_count": null,
   "metadata": {},
   "outputs": [],
   "source": []
  },
  {
   "cell_type": "code",
   "execution_count": null,
   "metadata": {},
   "outputs": [],
   "source": [
    "# chart 2 Humidity (%) vs. Latitude\n",
    "\n",
    "age_count_update_df.plot(kind='scatter')\n",
    "plt.xlabel('Latitude')\n",
    "plt.ylabel('Humidity (%)')\n",
    "plt.title(' Latitude vs. Humidity (%)')\n",
    "plt.xticks(index + bar_width,)\n",
    "#plt.legend()\n",
    "plt.legend(loc=\"best\", fontsize=\"small\", fancybox=True,title=\"\")\n",
    "\n",
    "plt.savefig(\"Humidity (%) vs. Latitud chart\")\n",
    "#plt.tight_layout()\n",
    "plt.show()"
   ]
  },
  {
   "cell_type": "markdown",
   "metadata": {},
   "source": [
    "#### Latitude vs. Cloudiness Plot"
   ]
  },
  {
   "cell_type": "code",
   "execution_count": null,
   "metadata": {},
   "outputs": [],
   "source": []
  },
  {
   "cell_type": "code",
   "execution_count": null,
   "metadata": {},
   "outputs": [],
   "source": [
    "age_count_update_df.plot(kind='scatter')\n",
    "plt.xlabel('Latitude')\n",
    "plt.ylabel('Clodiness (%)')\n",
    "plt.title('City Latitude vs.Cloudiness(%)')\n",
    "plt.xticks(index + bar_width,)\n",
    "#plt.legend()\n",
    "plt.legend(loc=\"best\", fontsize=\"small\", fancybox=True,title=\"\")\n",
    "\n",
    "plt.savefig(\"City Latitude vs.Cloudiness(%)\")\n",
    "#plt.tight_layout()\n",
    "plt.show()"
   ]
  },
  {
   "cell_type": "markdown",
   "metadata": {},
   "source": [
    "#### Latitude vs. Wind Speed Plot"
   ]
  },
  {
   "cell_type": "code",
   "execution_count": null,
   "metadata": {},
   "outputs": [],
   "source": []
  },
  {
   "cell_type": "code",
   "execution_count": null,
   "metadata": {},
   "outputs": [],
   "source": [
    "# Chart #5 Windspeed (mph) vs. Latitude\n",
    "\n",
    "age_count_update_df.plot(kind='scatter')\n",
    "plt.xlabel('Latitude')\n",
    "plt.ylabel('Windspeed (mph)')\n",
    "plt.title('City Latitude vs. Windspeed (mph)')\n",
    "plt.xticks(index + bar_width,)\n",
    "#plt.legend()\n",
    "plt.legend(loc=\"best\", fontsize=\"small\", fancybox=True,title=\"Age Groups\")\n",
    "\n",
    "plt.savefig(\"Windspeed (mph) vs. Latitude\")\n",
    "#plt.tight_layout()\n",
    "plt.show()"
   ]
  }
 ],
 "metadata": {
  "anaconda-cloud": {},
  "kernel_info": {
   "name": "python3"
  },
  "kernelspec": {
   "display_name": "Python 3",
   "language": "python",
   "name": "python3"
  },
  "language_info": {
   "codemirror_mode": {
    "name": "ipython",
    "version": 3
   },
   "file_extension": ".py",
   "mimetype": "text/x-python",
   "name": "python",
   "nbconvert_exporter": "python",
   "pygments_lexer": "ipython3",
   "version": "3.7.3"
  },
  "nteract": {
   "version": "0.12.3"
  }
 },
 "nbformat": 4,
 "nbformat_minor": 2
}
